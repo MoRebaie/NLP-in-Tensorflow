{
  "nbformat": 4,
  "nbformat_minor": 0,
  "metadata": {
    "colab": {
      "name": "Course3_Week4_Exercise_Shakespeare_Question.ipynb",
      "version": "0.3.2",
      "provenance": [],
      "include_colab_link": true
    },
    "kernelspec": {
      "name": "python3",
      "display_name": "Python 3"
    }
  },
  "cells": [
    {
      "cell_type": "markdown",
      "metadata": {
        "id": "view-in-github",
        "colab_type": "text"
      },
      "source": [
        "<a href=\"https://colab.research.google.com/github/MoRebaie/NLP-in-Tensorflow/blob/master/Course3_Week4_Exercise_Shakespeare_Question.ipynb\" target=\"_parent\"><img src=\"https://colab.research.google.com/assets/colab-badge.svg\" alt=\"Open In Colab\"/></a>"
      ]
    },
    {
      "cell_type": "code",
      "metadata": {
        "id": "tKH8Xq9Kec_6",
        "colab_type": "code",
        "colab": {}
      },
      "source": [
        "from tensorflow.keras.preprocessing.sequence import pad_sequences\n",
        "from tensorflow.keras.layers import Embedding, LSTM, Dense, Dropout, Bidirectional\n",
        "from tensorflow.keras.preprocessing.text import Tokenizer\n",
        "from tensorflow.keras.models import Sequential\n",
        "from tensorflow.keras.optimizers import Adam\n",
        "from tensorflow.keras import regularizers\n",
        "import tensorflow.keras.utils as ku \n",
        "import numpy as np "
      ],
      "execution_count": 0,
      "outputs": []
    },
    {
      "cell_type": "code",
      "metadata": {
        "id": "qnJw7S4MfeSY",
        "colab_type": "code",
        "colab": {
          "base_uri": "https://localhost:8080/",
          "height": 208
        },
        "outputId": "13f3167d-2da0-4e91-a7ff-161a4ec706c3"
      },
      "source": [
        "tokenizer = Tokenizer()\n",
        "!wget --no-check-certificate \\\n",
        "    https://storage.googleapis.com/laurencemoroney-blog.appspot.com/sonnets.txt \\\n",
        "    -O /tmp/sonnets.txt\n",
        "data = open('/tmp/sonnets.txt').read()\n",
        "\n",
        "corpus = data.lower().split(\"\\n\")\n",
        "\n",
        "\n",
        "tokenizer.fit_on_texts(corpus)\n",
        "total_words = len(tokenizer.word_index) + 1\n",
        "\n",
        "# create input sequences using list of tokens\n",
        "input_sequences = []\n",
        "for line in corpus:\n",
        "\ttoken_list = tokenizer.texts_to_sequences([line])[0]\n",
        "\tfor i in range(1, len(token_list)):\n",
        "\t\tn_gram_sequence = token_list[:i+1]\n",
        "\t\tinput_sequences.append(n_gram_sequence)\n",
        "\n",
        "\n",
        "# pad sequences \n",
        "max_sequence_len = max([len(x) for x in input_sequences])\n",
        "input_sequences = np.array(pad_sequences(input_sequences, maxlen=max_sequence_len, padding='pre'))\n",
        "\n",
        "# create predictors and label\n",
        "predictors, label = input_sequences[:,:-1],input_sequences[:,-1]\n",
        "\n",
        "label = ku.to_categorical(label, num_classes=total_words)"
      ],
      "execution_count": 2,
      "outputs": [
        {
          "output_type": "stream",
          "text": [
            "--2019-07-08 21:30:20--  https://storage.googleapis.com/laurencemoroney-blog.appspot.com/sonnets.txt\n",
            "Resolving storage.googleapis.com (storage.googleapis.com)... 74.125.141.128, 2607:f8b0:400c:c06::80\n",
            "Connecting to storage.googleapis.com (storage.googleapis.com)|74.125.141.128|:443... connected.\n",
            "HTTP request sent, awaiting response... 200 OK\n",
            "Length: 93578 (91K) [text/plain]\n",
            "Saving to: ‘/tmp/sonnets.txt’\n",
            "\n",
            "\r/tmp/sonnets.txt      0%[                    ]       0  --.-KB/s               \r/tmp/sonnets.txt    100%[===================>]  91.38K  --.-KB/s    in 0.001s  \n",
            "\n",
            "2019-07-08 21:30:20 (79.4 MB/s) - ‘/tmp/sonnets.txt’ saved [93578/93578]\n",
            "\n"
          ],
          "name": "stdout"
        }
      ]
    },
    {
      "cell_type": "code",
      "metadata": {
        "id": "7nt6zDg0feVS",
        "colab_type": "code",
        "colab": {
          "base_uri": "https://localhost:8080/",
          "height": 679
        },
        "outputId": "050d7ecb-65ef-4fd4-b657-96146612ad9b"
      },
      "source": [
        "model = Sequential()\n",
        "model.add(Embedding(total_words, 100, input_length=max_sequence_len-1))\n",
        "model.add(Bidirectional(LSTM(150, return_sequences = True)))\n",
        "model.add(Dropout(0.2))\n",
        "model.add(LSTM(100))\n",
        "model.add(Dense(total_words/2, activation='relu', kernel_regularizer=regularizers.l2(0.01)))\n",
        "model.add(Dense(total_words, activation='softmax'))\n",
        "model.compile(loss='categorical_crossentropy', optimizer='adam', metrics=['accuracy'])\n",
        "print(model.summary())\n"
      ],
      "execution_count": 3,
      "outputs": [
        {
          "output_type": "stream",
          "text": [
            "WARNING: Logging before flag parsing goes to stderr.\n",
            "W0708 21:30:29.475615 140353075611520 deprecation.py:506] From /usr/local/lib/python3.6/dist-packages/tensorflow/python/keras/initializers.py:119: calling RandomUniform.__init__ (from tensorflow.python.ops.init_ops) with dtype is deprecated and will be removed in a future version.\n",
            "Instructions for updating:\n",
            "Call initializer instance with the dtype argument instead of passing it to the constructor\n",
            "W0708 21:30:29.515227 140353075611520 deprecation.py:506] From /usr/local/lib/python3.6/dist-packages/tensorflow/python/ops/init_ops.py:1251: calling VarianceScaling.__init__ (from tensorflow.python.ops.init_ops) with dtype is deprecated and will be removed in a future version.\n",
            "Instructions for updating:\n",
            "Call initializer instance with the dtype argument instead of passing it to the constructor\n",
            "W0708 21:30:29.522538 140353075611520 deprecation.py:506] From /usr/local/lib/python3.6/dist-packages/tensorflow/python/ops/init_ops.py:97: calling GlorotUniform.__init__ (from tensorflow.python.ops.init_ops) with dtype is deprecated and will be removed in a future version.\n",
            "Instructions for updating:\n",
            "Call initializer instance with the dtype argument instead of passing it to the constructor\n",
            "W0708 21:30:29.527121 140353075611520 deprecation.py:506] From /usr/local/lib/python3.6/dist-packages/tensorflow/python/ops/init_ops.py:97: calling Orthogonal.__init__ (from tensorflow.python.ops.init_ops) with dtype is deprecated and will be removed in a future version.\n",
            "Instructions for updating:\n",
            "Call initializer instance with the dtype argument instead of passing it to the constructor\n",
            "W0708 21:30:29.529765 140353075611520 deprecation.py:506] From /usr/local/lib/python3.6/dist-packages/tensorflow/python/ops/init_ops.py:97: calling Zeros.__init__ (from tensorflow.python.ops.init_ops) with dtype is deprecated and will be removed in a future version.\n",
            "Instructions for updating:\n",
            "Call initializer instance with the dtype argument instead of passing it to the constructor\n"
          ],
          "name": "stderr"
        },
        {
          "output_type": "stream",
          "text": [
            "Model: \"sequential\"\n",
            "_________________________________________________________________\n",
            "Layer (type)                 Output Shape              Param #   \n",
            "=================================================================\n",
            "embedding (Embedding)        (None, 10, 100)           321100    \n",
            "_________________________________________________________________\n",
            "bidirectional (Bidirectional (None, 10, 300)           301200    \n",
            "_________________________________________________________________\n",
            "dropout (Dropout)            (None, 10, 300)           0         \n",
            "_________________________________________________________________\n",
            "lstm_1 (LSTM)                (None, 100)               160400    \n",
            "_________________________________________________________________\n",
            "dense (Dense)                (None, 1605)              162105    \n",
            "_________________________________________________________________\n",
            "dense_1 (Dense)              (None, 3211)              5156866   \n",
            "=================================================================\n",
            "Total params: 6,101,671\n",
            "Trainable params: 6,101,671\n",
            "Non-trainable params: 0\n",
            "_________________________________________________________________\n",
            "None\n"
          ],
          "name": "stdout"
        }
      ]
    },
    {
      "cell_type": "code",
      "metadata": {
        "id": "AFsRmMqEfeYZ",
        "colab_type": "code",
        "colab": {
          "base_uri": "https://localhost:8080/",
          "height": 1000
        },
        "outputId": "1845ed1d-10f8-4887-d661-ea45b6863aed"
      },
      "source": [
        " history = model.fit(predictors, label, epochs=100, verbose=1)"
      ],
      "execution_count": 4,
      "outputs": [
        {
          "output_type": "stream",
          "text": [
            "W0708 21:30:38.415682 140353075611520 deprecation.py:323] From /usr/local/lib/python3.6/dist-packages/tensorflow/python/ops/math_grad.py:1250: add_dispatch_support.<locals>.wrapper (from tensorflow.python.ops.array_ops) is deprecated and will be removed in a future version.\n",
            "Instructions for updating:\n",
            "Use tf.where in 2.0, which has the same broadcast rule as np.where\n"
          ],
          "name": "stderr"
        },
        {
          "output_type": "stream",
          "text": [
            "Epoch 1/100\n",
            "15462/15462 [==============================] - 85s 5ms/sample - loss: 6.8988 - acc: 0.0228\n",
            "Epoch 2/100\n",
            "15462/15462 [==============================] - 83s 5ms/sample - loss: 6.4974 - acc: 0.0214\n",
            "Epoch 3/100\n",
            "15462/15462 [==============================] - 83s 5ms/sample - loss: 6.3864 - acc: 0.0257\n",
            "Epoch 4/100\n",
            "15462/15462 [==============================] - 82s 5ms/sample - loss: 6.2637 - acc: 0.0299\n",
            "Epoch 5/100\n",
            "15462/15462 [==============================] - 82s 5ms/sample - loss: 6.1690 - acc: 0.0343\n",
            "Epoch 6/100\n",
            "15462/15462 [==============================] - 82s 5ms/sample - loss: 6.0802 - acc: 0.0374\n",
            "Epoch 7/100\n",
            "15462/15462 [==============================] - 82s 5ms/sample - loss: 5.9971 - acc: 0.0395\n",
            "Epoch 8/100\n",
            "15462/15462 [==============================] - 82s 5ms/sample - loss: 5.9107 - acc: 0.0431\n",
            "Epoch 9/100\n",
            "15462/15462 [==============================] - 82s 5ms/sample - loss: 5.8139 - acc: 0.0489\n",
            "Epoch 10/100\n",
            "15462/15462 [==============================] - 82s 5ms/sample - loss: 5.7102 - acc: 0.0564\n",
            "Epoch 11/100\n",
            "15462/15462 [==============================] - 82s 5ms/sample - loss: 5.5972 - acc: 0.0644\n",
            "Epoch 12/100\n",
            "15462/15462 [==============================] - 82s 5ms/sample - loss: 5.4822 - acc: 0.0725\n",
            "Epoch 13/100\n",
            "15462/15462 [==============================] - 83s 5ms/sample - loss: 5.3736 - acc: 0.0756\n",
            "Epoch 14/100\n",
            "15462/15462 [==============================] - 82s 5ms/sample - loss: 5.2656 - acc: 0.0846\n",
            "Epoch 15/100\n",
            "15462/15462 [==============================] - 83s 5ms/sample - loss: 5.1493 - acc: 0.0924\n",
            "Epoch 16/100\n",
            "15462/15462 [==============================] - 82s 5ms/sample - loss: 5.0436 - acc: 0.0986\n",
            "Epoch 17/100\n",
            "15462/15462 [==============================] - 82s 5ms/sample - loss: 4.9329 - acc: 0.1085\n",
            "Epoch 18/100\n",
            "15462/15462 [==============================] - 82s 5ms/sample - loss: 4.8266 - acc: 0.1164\n",
            "Epoch 19/100\n",
            "15462/15462 [==============================] - 82s 5ms/sample - loss: 4.7197 - acc: 0.1266\n",
            "Epoch 20/100\n",
            "15462/15462 [==============================] - 83s 5ms/sample - loss: 4.6126 - acc: 0.1363\n",
            "Epoch 21/100\n",
            "15462/15462 [==============================] - 82s 5ms/sample - loss: 4.5058 - acc: 0.1456\n",
            "Epoch 22/100\n",
            "15462/15462 [==============================] - 82s 5ms/sample - loss: 4.3989 - acc: 0.1574\n",
            "Epoch 23/100\n",
            "15462/15462 [==============================] - 82s 5ms/sample - loss: 4.2918 - acc: 0.1696\n",
            "Epoch 24/100\n",
            "15462/15462 [==============================] - 81s 5ms/sample - loss: 4.1937 - acc: 0.1828\n",
            "Epoch 25/100\n",
            "15462/15462 [==============================] - 81s 5ms/sample - loss: 4.0884 - acc: 0.1951\n",
            "Epoch 26/100\n",
            "15462/15462 [==============================] - 81s 5ms/sample - loss: 3.9826 - acc: 0.2119\n",
            "Epoch 27/100\n",
            "15462/15462 [==============================] - 82s 5ms/sample - loss: 3.8871 - acc: 0.2237\n",
            "Epoch 28/100\n",
            "15462/15462 [==============================] - 82s 5ms/sample - loss: 3.7874 - acc: 0.2420\n",
            "Epoch 29/100\n",
            "15462/15462 [==============================] - 82s 5ms/sample - loss: 3.6949 - acc: 0.2602\n",
            "Epoch 30/100\n",
            "15462/15462 [==============================] - 82s 5ms/sample - loss: 3.5915 - acc: 0.2807\n",
            "Epoch 31/100\n",
            "15462/15462 [==============================] - 82s 5ms/sample - loss: 3.5119 - acc: 0.2989\n",
            "Epoch 32/100\n",
            "15462/15462 [==============================] - 82s 5ms/sample - loss: 3.4156 - acc: 0.3254\n",
            "Epoch 33/100\n",
            "15462/15462 [==============================] - 82s 5ms/sample - loss: 3.3322 - acc: 0.3392\n",
            "Epoch 34/100\n",
            "15462/15462 [==============================] - 82s 5ms/sample - loss: 3.2464 - acc: 0.3553\n",
            "Epoch 35/100\n",
            "15462/15462 [==============================] - 82s 5ms/sample - loss: 3.1708 - acc: 0.3761\n",
            "Epoch 36/100\n",
            "15462/15462 [==============================] - 83s 5ms/sample - loss: 3.0946 - acc: 0.3889\n",
            "Epoch 37/100\n",
            "15462/15462 [==============================] - 82s 5ms/sample - loss: 3.0177 - acc: 0.4079\n",
            "Epoch 38/100\n",
            "15462/15462 [==============================] - 81s 5ms/sample - loss: 2.9410 - acc: 0.4239\n",
            "Epoch 39/100\n",
            "15462/15462 [==============================] - 82s 5ms/sample - loss: 2.8665 - acc: 0.4422\n",
            "Epoch 40/100\n",
            "15462/15462 [==============================] - 82s 5ms/sample - loss: 2.8003 - acc: 0.4574\n",
            "Epoch 41/100\n",
            "15462/15462 [==============================] - 82s 5ms/sample - loss: 2.7502 - acc: 0.4679\n",
            "Epoch 42/100\n",
            "15462/15462 [==============================] - 82s 5ms/sample - loss: 2.6691 - acc: 0.4858\n",
            "Epoch 43/100\n",
            "15462/15462 [==============================] - 82s 5ms/sample - loss: 2.6008 - acc: 0.4999\n",
            "Epoch 44/100\n",
            "15462/15462 [==============================] - 82s 5ms/sample - loss: 2.5525 - acc: 0.5144\n",
            "Epoch 45/100\n",
            "15462/15462 [==============================] - 82s 5ms/sample - loss: 2.4991 - acc: 0.5259\n",
            "Epoch 46/100\n",
            "15462/15462 [==============================] - 82s 5ms/sample - loss: 2.4440 - acc: 0.5382\n",
            "Epoch 47/100\n",
            "15462/15462 [==============================] - 82s 5ms/sample - loss: 2.3829 - acc: 0.5589\n",
            "Epoch 48/100\n",
            "15462/15462 [==============================] - 82s 5ms/sample - loss: 2.3317 - acc: 0.5590\n",
            "Epoch 49/100\n",
            "15462/15462 [==============================] - 82s 5ms/sample - loss: 2.2832 - acc: 0.5752\n",
            "Epoch 50/100\n",
            "15462/15462 [==============================] - 82s 5ms/sample - loss: 2.2306 - acc: 0.5846\n",
            "Epoch 51/100\n",
            "15462/15462 [==============================] - 82s 5ms/sample - loss: 2.1964 - acc: 0.5924\n",
            "Epoch 52/100\n",
            "15462/15462 [==============================] - 82s 5ms/sample - loss: 2.1482 - acc: 0.6036\n",
            "Epoch 53/100\n",
            "15462/15462 [==============================] - 82s 5ms/sample - loss: 2.1044 - acc: 0.6145\n",
            "Epoch 54/100\n",
            "15462/15462 [==============================] - 82s 5ms/sample - loss: 2.0657 - acc: 0.6206\n",
            "Epoch 55/100\n",
            "15462/15462 [==============================] - 82s 5ms/sample - loss: 2.0379 - acc: 0.6308\n",
            "Epoch 56/100\n",
            "15462/15462 [==============================] - 83s 5ms/sample - loss: 1.9882 - acc: 0.6385\n",
            "Epoch 57/100\n",
            "15462/15462 [==============================] - 82s 5ms/sample - loss: 1.9676 - acc: 0.6412\n",
            "Epoch 58/100\n",
            "15462/15462 [==============================] - 82s 5ms/sample - loss: 1.9353 - acc: 0.6503\n",
            "Epoch 59/100\n",
            "15462/15462 [==============================] - 82s 5ms/sample - loss: 1.8839 - acc: 0.6582\n",
            "Epoch 60/100\n",
            "15462/15462 [==============================] - 82s 5ms/sample - loss: 1.8485 - acc: 0.6715\n",
            "Epoch 61/100\n",
            "15462/15462 [==============================] - 82s 5ms/sample - loss: 1.8279 - acc: 0.6740\n",
            "Epoch 62/100\n",
            "15462/15462 [==============================] - 82s 5ms/sample - loss: 1.7817 - acc: 0.6840\n",
            "Epoch 63/100\n",
            "15462/15462 [==============================] - 82s 5ms/sample - loss: 1.7540 - acc: 0.6912\n",
            "Epoch 64/100\n",
            "15462/15462 [==============================] - 81s 5ms/sample - loss: 1.7248 - acc: 0.6972\n",
            "Epoch 65/100\n",
            "15462/15462 [==============================] - 82s 5ms/sample - loss: 1.6913 - acc: 0.7010\n",
            "Epoch 66/100\n",
            "15462/15462 [==============================] - 82s 5ms/sample - loss: 1.6779 - acc: 0.7040\n",
            "Epoch 67/100\n",
            "15462/15462 [==============================] - 82s 5ms/sample - loss: 1.6456 - acc: 0.7095\n",
            "Epoch 68/100\n",
            "15462/15462 [==============================] - 82s 5ms/sample - loss: 1.6321 - acc: 0.7112\n",
            "Epoch 69/100\n",
            "15462/15462 [==============================] - 82s 5ms/sample - loss: 1.6034 - acc: 0.7196\n",
            "Epoch 70/100\n",
            "15462/15462 [==============================] - 82s 5ms/sample - loss: 1.5753 - acc: 0.7267\n",
            "Epoch 71/100\n",
            "15462/15462 [==============================] - 82s 5ms/sample - loss: 1.5558 - acc: 0.7318\n",
            "Epoch 72/100\n",
            "15462/15462 [==============================] - 82s 5ms/sample - loss: 1.5381 - acc: 0.7303\n",
            "Epoch 73/100\n",
            "15462/15462 [==============================] - 82s 5ms/sample - loss: 1.5070 - acc: 0.7373\n",
            "Epoch 74/100\n",
            "15462/15462 [==============================] - 82s 5ms/sample - loss: 1.4924 - acc: 0.7400\n",
            "Epoch 75/100\n",
            "15462/15462 [==============================] - 81s 5ms/sample - loss: 1.4687 - acc: 0.7454\n",
            "Epoch 76/100\n",
            "15462/15462 [==============================] - 82s 5ms/sample - loss: 1.4504 - acc: 0.7492\n",
            "Epoch 77/100\n",
            "15462/15462 [==============================] - 82s 5ms/sample - loss: 1.4327 - acc: 0.7516\n",
            "Epoch 78/100\n",
            "15462/15462 [==============================] - 82s 5ms/sample - loss: 1.4205 - acc: 0.7535\n",
            "Epoch 79/100\n",
            "15462/15462 [==============================] - 82s 5ms/sample - loss: 1.4068 - acc: 0.7519\n",
            "Epoch 80/100\n",
            "15462/15462 [==============================] - 82s 5ms/sample - loss: 1.3843 - acc: 0.7615\n",
            "Epoch 81/100\n",
            "15462/15462 [==============================] - 82s 5ms/sample - loss: 1.3670 - acc: 0.7647\n",
            "Epoch 82/100\n",
            "15462/15462 [==============================] - 82s 5ms/sample - loss: 1.3539 - acc: 0.7678\n",
            "Epoch 83/100\n",
            "15462/15462 [==============================] - 82s 5ms/sample - loss: 1.3289 - acc: 0.7716\n",
            "Epoch 84/100\n",
            "15462/15462 [==============================] - 82s 5ms/sample - loss: 1.3174 - acc: 0.7707\n",
            "Epoch 85/100\n",
            "15462/15462 [==============================] - 82s 5ms/sample - loss: 1.3065 - acc: 0.7744\n",
            "Epoch 86/100\n",
            "15462/15462 [==============================] - 82s 5ms/sample - loss: 1.2899 - acc: 0.7775\n",
            "Epoch 87/100\n",
            "15462/15462 [==============================] - 82s 5ms/sample - loss: 1.2767 - acc: 0.7787\n",
            "Epoch 88/100\n",
            "15462/15462 [==============================] - 81s 5ms/sample - loss: 1.2581 - acc: 0.7824\n",
            "Epoch 89/100\n",
            "15462/15462 [==============================] - 82s 5ms/sample - loss: 1.2369 - acc: 0.7891\n",
            "Epoch 90/100\n",
            "15462/15462 [==============================] - 81s 5ms/sample - loss: 1.2474 - acc: 0.7822\n",
            "Epoch 91/100\n",
            "15462/15462 [==============================] - 81s 5ms/sample - loss: 1.2490 - acc: 0.7801\n",
            "Epoch 92/100\n",
            "15462/15462 [==============================] - 82s 5ms/sample - loss: 1.2242 - acc: 0.7837\n",
            "Epoch 93/100\n",
            "15462/15462 [==============================] - 82s 5ms/sample - loss: 1.1985 - acc: 0.7943\n",
            "Epoch 94/100\n",
            "15462/15462 [==============================] - 82s 5ms/sample - loss: 1.1839 - acc: 0.7960\n",
            "Epoch 95/100\n",
            "15462/15462 [==============================] - 82s 5ms/sample - loss: 1.1708 - acc: 0.7976\n",
            "Epoch 96/100\n",
            "15462/15462 [==============================] - 83s 5ms/sample - loss: 1.1662 - acc: 0.7980\n",
            "Epoch 97/100\n",
            "15462/15462 [==============================] - 82s 5ms/sample - loss: 1.1581 - acc: 0.7989\n",
            "Epoch 98/100\n",
            "15462/15462 [==============================] - 81s 5ms/sample - loss: 1.1545 - acc: 0.7988\n",
            "Epoch 99/100\n",
            "15462/15462 [==============================] - 82s 5ms/sample - loss: 1.1554 - acc: 0.7976\n",
            "Epoch 100/100\n",
            "15462/15462 [==============================] - 82s 5ms/sample - loss: 1.1433 - acc: 0.8018\n"
          ],
          "name": "stdout"
        }
      ]
    },
    {
      "cell_type": "code",
      "metadata": {
        "id": "QEGVpws9febW",
        "colab_type": "code",
        "colab": {
          "base_uri": "https://localhost:8080/",
          "height": 545
        },
        "outputId": "daa18ea0-7d0c-4559-fc48-80002e521df6"
      },
      "source": [
        "import matplotlib.pyplot as plt\n",
        "acc = history.history['acc']\n",
        "loss = history.history['loss']\n",
        "\n",
        "epochs = range(len(acc))\n",
        "\n",
        "plt.plot(epochs, acc, 'b', label='Training accuracy')\n",
        "plt.title('Training accuracy')\n",
        "\n",
        "plt.figure()\n",
        "\n",
        "plt.plot(epochs, loss, 'b', label='Training Loss')\n",
        "plt.title('Training loss')\n",
        "plt.legend()\n",
        "\n",
        "plt.show()"
      ],
      "execution_count": 5,
      "outputs": [
        {
          "output_type": "display_data",
          "data": {
            "image/png": "[encoded data removed]",
            "text/plain": [
              "<Figure size 432x288 with 1 Axes>"
            ]
          },
          "metadata": {
            "tags": []
          }
        },
        {
          "output_type": "display_data",
          "data": {
            "image/png": "[encoded data removed]",
            "text/plain": [
              "<Figure size 432x288 with 1 Axes>"
            ]
          },
          "metadata": {
            "tags": []
          }
        }
      ]
    },
    {
      "cell_type": "code",
      "metadata": {
        "id": "vGLgXzPlfeer",
        "colab_type": "code",
        "colab": {
          "base_uri": "https://localhost:8080/",
          "height": 55
        },
        "outputId": "957a6754-e413-4994-ab16-cb81dbc3660d"
      },
      "source": [
        "seed_text = \"Help me Obi Wan Kenobi, you're my only hope\"\n",
        "next_words = 100\n",
        "  \n",
        "for _ in range(next_words):\n",
        "\ttoken_list = tokenizer.texts_to_sequences([seed_text])[0]\n",
        "\ttoken_list = pad_sequences([token_list], maxlen=max_sequence_len-1, padding='pre')\n",
        "\tpredicted = model.predict_classes(token_list, verbose=0)\n",
        "\toutput_word = \"\"\n",
        "\tfor word, index in tokenizer.word_index.items():\n",
        "\t\tif index == predicted:\n",
        "\t\t\toutput_word = word\n",
        "\t\t\tbreak\n",
        "\tseed_text += \" \" + output_word\n",
        "print(seed_text)"
      ],
      "execution_count": 6,
      "outputs": [
        {
          "output_type": "stream",
          "text": [
            "Help me Obi Wan Kenobi, you're my only hope ' answers with thee back seen groan weep was her part of day to day be seen make owe sway'st afford borne on kind eyes night doth take a slow express'd decease green green bright too strife make down me long exceeds date rage spite back be kind doth catch thee fair best to live forsworn die me not thee forth die twain none lie releasing thee young bright ' ' bearing thy sport ' did green men twain kind doth stand on old night must strive in heart's night out up decease decease respect quite kindness tell me such\n"
          ],
          "name": "stdout"
        }
      ]
    }
  ]
}