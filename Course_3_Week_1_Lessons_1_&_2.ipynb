{
  "nbformat": 4,
  "nbformat_minor": 0,
  "metadata": {
    "colab": {
      "name": "Course 3 - Week 1 - Lessons 1 & 2.ipynb",
      "version": "0.3.2",
      "provenance": [],
      "include_colab_link": true
    },
    "kernelspec": {
      "name": "python3",
      "display_name": "Python 3"
    }
  },
  "cells": [
    {
      "cell_type": "markdown",
      "metadata": {
        "id": "view-in-github",
        "colab_type": "text"
      },
      "source": [
        "<a href=\"https://colab.research.google.com/github/MoRebaie/NLP-in-Tensorflow/blob/master/Course_3_Week_1_Lessons_1_%26_2.ipynb\" target=\"_parent\"><img src=\"https://colab.research.google.com/assets/colab-badge.svg\" alt=\"Open In Colab\"/></a>"
      ]
    },
    {
      "cell_type": "code",
      "metadata": {
        "id": "ijegTP3QNKW9",
        "colab_type": "code",
        "colab": {}
      },
      "source": [
        "import tensorflow as tf\n",
        "from tensorflow import keras\n",
        "from tensorflow.keras.preprocessing.text import Tokenizer\n",
        "from tensorflow.keras.preprocessing.sequence import pad_sequences"
      ],
      "execution_count": 0,
      "outputs": []
    },
    {
      "cell_type": "code",
      "metadata": {
        "id": "Sb3NvovZQwld",
        "colab_type": "code",
        "colab": {
          "base_uri": "https://localhost:8080/",
          "height": 55
        },
        "outputId": "7d771ddf-5f98-4f36-86b6-1a51fb1b9d3d"
      },
      "source": [
        "sentences = [\n",
        "    'i love my dog',\n",
        "    'I, love my cat',\n",
        "    'You love my dog!',\n",
        "    'you like my cat',\n",
        "    'i like your dog!',\n",
        "    'do you think that my cat is amazing?'\n",
        "]\n",
        "\n",
        "tokenizer = Tokenizer (num_words = 100, oov_token = '<OOV>')\n",
        "tokenizer.fit_on_texts(sentences)\n",
        "word_index = tokenizer.word_index\n",
        "print(word_index)"
      ],
      "execution_count": 35,
      "outputs": [
        {
          "output_type": "stream",
          "text": [
            "{'<OOV>': 1, 'my': 2, 'i': 3, 'love': 4, 'dog': 5, 'cat': 6, 'you': 7, 'like': 8, 'your': 9, 'do': 10, 'think': 11, 'that': 12, 'is': 13, 'amazing': 14}\n"
          ],
          "name": "stdout"
        }
      ]
    },
    {
      "cell_type": "code",
      "metadata": {
        "id": "0hbkrJci2cWp",
        "colab_type": "code",
        "colab": {
          "base_uri": "https://localhost:8080/",
          "height": 245
        },
        "outputId": "6577f4b9-cb0c-41db-992c-e27c0a0a9e6a"
      },
      "source": [
        "sequences = tokenizer.texts_to_sequences (sentences)\n",
        "\n",
        "padded = pad_sequences (sequences, maxlen = 10)\n",
        "\n",
        "print (\"\\nWord Index = \", word_index)\n",
        "print (\"\\nSequences = \",sequences)\n",
        "print (\"\\nPadded Sequences =\\n \", padded)"
      ],
      "execution_count": 43,
      "outputs": [
        {
          "output_type": "stream",
          "text": [
            "\n",
            "Word Index =  {'<OOV>': 1, 'my': 2, 'i': 3, 'love': 4, 'dog': 5, 'cat': 6, 'you': 7, 'like': 8, 'your': 9, 'do': 10, 'think': 11, 'that': 12, 'is': 13, 'amazing': 14}\n",
            "\n",
            "Sequences =  [[3, 4, 2, 5], [3, 4, 2, 6], [7, 4, 2, 5], [7, 8, 2, 6], [3, 8, 9, 5], [10, 7, 11, 12, 2, 6, 13, 14]]\n",
            "\n",
            "Padded Sequences =\n",
            "  [[ 0  0  0  0  0  0  3  4  2  5]\n",
            " [ 0  0  0  0  0  0  3  4  2  6]\n",
            " [ 0  0  0  0  0  0  7  4  2  5]\n",
            " [ 0  0  0  0  0  0  7  8  2  6]\n",
            " [ 0  0  0  0  0  0  3  8  9  5]\n",
            " [ 0  0 10  7 11 12  2  6 13 14]]\n"
          ],
          "name": "stdout"
        }
      ]
    },
    {
      "cell_type": "code",
      "metadata": {
        "id": "syvRZM785Np0",
        "colab_type": "code",
        "colab": {
          "base_uri": "https://localhost:8080/",
          "height": 121
        },
        "outputId": "ebbc5945-e172-4f7b-8922-e21a2c699de7"
      },
      "source": [
        "# try testing with words that the tokenizer doesn't fit into!\n",
        "test_data = [\n",
        "    'I really love my dog',\n",
        "    'my dog adores my manatee'\n",
        "]\n",
        "\n",
        "test_seq = tokenizer.texts_to_sequences (test_data)\n",
        "print (\"\\nTest Sequences = \", test_seq)\n",
        "\n",
        "padded = pad_sequences (test_seq, maxlen = 6, padding = 'post')\n",
        "print (\"\\nPadded test sequences = \\n\", padded)"
      ],
      "execution_count": 50,
      "outputs": [
        {
          "output_type": "stream",
          "text": [
            "\n",
            "Test Sequences =  [[3, 1, 4, 2, 5], [2, 5, 1, 2, 1]]\n",
            "\n",
            "Padded test sequences = \n",
            " [[3 1 4 2 5 0]\n",
            " [2 5 1 2 1 0]]\n"
          ],
          "name": "stdout"
        }
      ]
    }
  ]
}