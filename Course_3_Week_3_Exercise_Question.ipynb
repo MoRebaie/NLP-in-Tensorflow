{
  "nbformat": 4,
  "nbformat_minor": 0,
  "metadata": {
    "colab": {
      "name": "Course 3 - Week 3 Exercise Question.ipynb",
      "version": "0.3.2",
      "provenance": [],
      "include_colab_link": true
    },
    "kernelspec": {
      "name": "python3",
      "display_name": "Python 3"
    },
    "accelerator": "GPU"
  },
  "cells": [
    {
      "cell_type": "markdown",
      "metadata": {
        "id": "view-in-github",
        "colab_type": "text"
      },
      "source": [
        "<a href=\"https://colab.research.google.com/github/MoRebaie/NLP-in-Tensorflow/blob/master/Course_3_Week_3_Exercise_Question.ipynb\" target=\"_parent\"><img src=\"https://colab.research.google.com/assets/colab-badge.svg\" alt=\"Open In Colab\"/></a>"
      ]
    },
    {
      "cell_type": "code",
      "metadata": {
        "id": "TT0lP7uU4I19",
        "colab_type": "code",
        "colab": {}
      },
      "source": [
        "import json\n",
        "import tensorflow as tf\n",
        "import csv\n",
        "import random\n",
        "import numpy as np\n",
        "\n",
        "from tensorflow.keras.preprocessing.text import Tokenizer\n",
        "from tensorflow.keras.preprocessing.sequence import pad_sequences\n",
        "from tensorflow.keras.utils import to_categorical\n",
        "from tensorflow.keras import regularizers\n",
        "\n",
        "\n",
        "embedding_dim = 100\n",
        "max_length = 16\n",
        "trunc_type='post'\n",
        "padding_type='post'\n",
        "oov_tok = \"<OOV>\"\n",
        "training_size= 160000\n",
        "#Your dataset size here. Experiment using smaller values (i.e. 16000), but don't forget to train on at least 160000 to see the best effects\n",
        "test_portion=.1\n",
        "\n",
        "corpus = []"
      ],
      "execution_count": 0,
      "outputs": []
    },
    {
      "cell_type": "code",
      "metadata": {
        "id": "pSLkHUR74bfh",
        "colab_type": "code",
        "colab": {
          "base_uri": "https://localhost:8080/",
          "height": 208
        },
        "outputId": "74878c88-661b-4f4d-9e8d-2ab52b0e33af"
      },
      "source": [
        "# Note that I cleaned the Stanford dataset to remove LATIN1 encoding to make it easier for Python CSV reader\n",
        "# You can do that yourself with:\n",
        "# iconv -f LATIN1 -t UTF8 training.1600000.processed.noemoticon.csv -o training_cleaned.csv\n",
        "# I then hosted it on my site to make it easier to use in this notebook\n",
        "\n",
        "!wget --no-check-certificate \\\n",
        "    https://storage.googleapis.com/laurencemoroney-blog.appspot.com/training_cleaned.csv \\\n",
        "    -O /tmp/training_cleaned.csv\n",
        "\n",
        "num_sentences = 0\n",
        "\n",
        "with open(\"/tmp/training_cleaned.csv\") as csvfile:\n",
        "    reader = csv.reader(csvfile, delimiter=',')\n",
        "    for row in reader:\n",
        "      # Your Code here. Create list items where the first item is the text, found in row[5], and the second is the label. Note that the label is a '0' or a '4' in the text. When it's the former, make\n",
        "      # your label to be 0, otherwise 1. Keep a count of the number of sentences in num_sentences\n",
        "        list_item=[]\n",
        "        list_item.append(row[5])\n",
        "        this_label = row[0]\n",
        "        if this_label=='0':\n",
        "            list_item.append(0)\n",
        "        else:\n",
        "            list_item.append(1)\n",
        "        # YOUR CODE HERE\n",
        "        num_sentences = num_sentences + 1\n",
        "        corpus.append(list_item)\n"
      ],
      "execution_count": 4,
      "outputs": [
        {
          "output_type": "stream",
          "text": [
            "--2019-07-06 20:04:34--  https://storage.googleapis.com/laurencemoroney-blog.appspot.com/training_cleaned.csv\n",
            "Resolving storage.googleapis.com (storage.googleapis.com)... 173.194.202.128, 2607:f8b0:400e:c07::80\n",
            "Connecting to storage.googleapis.com (storage.googleapis.com)|173.194.202.128|:443... connected.\n",
            "HTTP request sent, awaiting response... 200 OK\n",
            "Length: 238942690 (228M) [application/octet-stream]\n",
            "Saving to: ‘/tmp/training_cleaned.csv’\n",
            "\n",
            "/tmp/training_clean 100%[===================>] 227.87M   145MB/s    in 1.6s    \n",
            "\n",
            "2019-07-06 20:04:36 (145 MB/s) - ‘/tmp/training_cleaned.csv’ saved [238942690/238942690]\n",
            "\n"
          ],
          "name": "stdout"
        }
      ]
    },
    {
      "cell_type": "code",
      "metadata": {
        "id": "BqcnuijH4bi3",
        "colab_type": "code",
        "colab": {
          "base_uri": "https://localhost:8080/",
          "height": 69
        },
        "outputId": "1c52396a-cb0a-48a6-df2e-4ada07d0fada"
      },
      "source": [
        "print(num_sentences)\n",
        "print(len(corpus))\n",
        "print(corpus[1])\n",
        "\n",
        "# Expected Output:\n",
        "# 1600000\n",
        "# 1600000\n",
        "# [\"is upset that he can't update his Facebook by texting it... and might cry as a result  School today also. Blah!\", 0]"
      ],
      "execution_count": 6,
      "outputs": [
        {
          "output_type": "stream",
          "text": [
            "1600000\n",
            "1600000\n",
            "[\"is upset that he can't update his Facebook by texting it... and might cry as a result  School today also. Blah!\", 0]\n"
          ],
          "name": "stdout"
        }
      ]
    },
    {
      "cell_type": "code",
      "metadata": {
        "id": "rT4M22Lo4bli",
        "colab_type": "code",
        "colab": {}
      },
      "source": [
        "sentences=[]\n",
        "labels=[]\n",
        "random.shuffle(corpus)\n",
        "for x in range(training_size):\n",
        "    sentences.append(corpus[x][0])# YOUR CODE HERE\n",
        "    labels.append(corpus[x][1])# YOUR CODE HERE\n",
        "\n",
        "tokenizer = Tokenizer()\n",
        "tokenizer.fit_on_texts(sentences)# YOUR CODE HERE\n",
        "\n",
        "word_index = tokenizer.word_index\n",
        "vocab_size = len(word_index)# YOUR CODE HERE\n",
        "\n",
        "sequences = tokenizer.texts_to_sequences(sentences)# YOUR CODE HERE\n",
        "padded = pad_sequences(sequences, maxlen = max_length, padding = padding_type, truncating = trunc_type)# YOUR CODE HERE\n",
        "\n",
        "split = int(test_portion * training_size)\n",
        "\n",
        "test_sequences = padded[0:split]# YOUR CODE HERE\n",
        "training_sequences = padded[split:training_size]# YOUR CODE HERE\n",
        "test_labels = labels[0:split]# YOUR CODE HERE\n",
        "training_labels = labels[split:training_size]# YOUR CODE HERE"
      ],
      "execution_count": 0,
      "outputs": []
    },
    {
      "cell_type": "code",
      "metadata": {
        "id": "gChvQ3XJ4boj",
        "colab_type": "code",
        "colab": {
          "base_uri": "https://localhost:8080/",
          "height": 52
        },
        "outputId": "606a310a-f864-485c-811b-bdba6f5e3b1f"
      },
      "source": [
        "print(vocab_size)\n",
        "print(word_index['i'])\n",
        "# Expected Output\n",
        "# 138858\n",
        "# 1"
      ],
      "execution_count": 8,
      "outputs": [
        {
          "output_type": "stream",
          "text": [
            "138533\n",
            "1\n"
          ],
          "name": "stdout"
        }
      ]
    },
    {
      "cell_type": "code",
      "metadata": {
        "id": "XFQjpqrY4brr",
        "colab_type": "code",
        "colab": {
          "base_uri": "https://localhost:8080/",
          "height": 208
        },
        "outputId": "997d5faf-3af1-4727-fe30-9298549aa2fb"
      },
      "source": [
        "# Note this is the 100 dimension version of GloVe from Stanford\n",
        "# I unzipped and hosted it on my site to make this notebook easier\n",
        "!wget --no-check-certificate \\\n",
        "    https://storage.googleapis.com/laurencemoroney-blog.appspot.com/glove.6B.100d.txt \\\n",
        "    -O /tmp/glove.6B.100d.txt\n",
        "embeddings_index = {};\n",
        "with open('/tmp/glove.6B.100d.txt') as f:\n",
        "    for line in f:\n",
        "        values = line.split();\n",
        "        word = values[0];\n",
        "        coefs = np.asarray(values[1:], dtype='float32');\n",
        "        embeddings_index[word] = coefs;\n",
        "\n",
        "embeddings_matrix = np.zeros((vocab_size+1, embedding_dim));\n",
        "for word, i in word_index.items():\n",
        "    embedding_vector = embeddings_index.get(word);\n",
        "    if embedding_vector is not None:\n",
        "        embeddings_matrix[i] = embedding_vector;"
      ],
      "execution_count": 9,
      "outputs": [
        {
          "output_type": "stream",
          "text": [
            "--2019-07-06 20:06:25--  https://storage.googleapis.com/laurencemoroney-blog.appspot.com/glove.6B.100d.txt\n",
            "Resolving storage.googleapis.com (storage.googleapis.com)... 74.125.195.128, 2607:f8b0:400e:c08::80\n",
            "Connecting to storage.googleapis.com (storage.googleapis.com)|74.125.195.128|:443... connected.\n",
            "HTTP request sent, awaiting response... 200 OK\n",
            "Length: 347116733 (331M) [text/plain]\n",
            "Saving to: ‘/tmp/glove.6B.100d.txt’\n",
            "\n",
            "/tmp/glove.6B.100d. 100%[===================>] 331.04M   152MB/s    in 2.2s    \n",
            "\n",
            "2019-07-06 20:06:27 (152 MB/s) - ‘/tmp/glove.6B.100d.txt’ saved [347116733/347116733]\n",
            "\n"
          ],
          "name": "stdout"
        }
      ]
    },
    {
      "cell_type": "code",
      "metadata": {
        "id": "yQH0lJ0V4buu",
        "colab_type": "code",
        "colab": {
          "base_uri": "https://localhost:8080/",
          "height": 35
        },
        "outputId": "7a9fedfe-065b-4860-bbaf-6f9755f4e953"
      },
      "source": [
        "print(len(embeddings_matrix))\n",
        "# Expected Output\n",
        "# 138859"
      ],
      "execution_count": 10,
      "outputs": [
        {
          "output_type": "stream",
          "text": [
            "138534\n"
          ],
          "name": "stdout"
        }
      ]
    },
    {
      "cell_type": "code",
      "metadata": {
        "id": "v7Y5-OUh4bx2",
        "colab_type": "code",
        "colab": {
          "base_uri": "https://localhost:8080/",
          "height": 1000
        },
        "outputId": "cb8b97f5-6964-401f-8120-80b879c3f484"
      },
      "source": [
        "model = tf.keras.Sequential([\n",
        "    tf.keras.layers.Embedding(vocab_size+1, embedding_dim, input_length=max_length, weights=[embeddings_matrix], trainable=False),\n",
        "    tf.keras.layers.Dropout(0.2),\n",
        "    tf.keras.layers.Conv1D(64, 5, activation = 'relu'),\n",
        "    tf.keras.layers.MaxPooling1D (pool_size = 4),\n",
        "    tf.keras.layers.LSTM(64),\n",
        "    tf.keras.layers.Dense(1, activation = 'sigmoid')\n",
        "    # YOUR CODE HERE - experiment with combining different types, such as convolutions and LSTMs\n",
        "])\n",
        "model.compile(loss = 'binary_crossentropy', optimizer = 'adam', metrics = ['accuracy'])# YOUR CODE HERE)\n",
        "model.summary()\n",
        "\n",
        "num_epochs = 50\n",
        "history = model.fit(training_sequences, training_labels, epochs=num_epochs, validation_data=(test_sequences, test_labels), verbose=2)\n",
        "\n",
        "print(\"Training Complete\")\n"
      ],
      "execution_count": 11,
      "outputs": [
        {
          "output_type": "stream",
          "text": [
            "WARNING: Logging before flag parsing goes to stderr.\n",
            "W0706 20:07:07.558987 139738585687936 deprecation.py:506] From /usr/local/lib/python3.6/dist-packages/tensorflow/python/keras/initializers.py:119: calling RandomUniform.__init__ (from tensorflow.python.ops.init_ops) with dtype is deprecated and will be removed in a future version.\n",
            "Instructions for updating:\n",
            "Call initializer instance with the dtype argument instead of passing it to the constructor\n",
            "W0706 20:07:07.563517 139738585687936 deprecation.py:506] From /usr/local/lib/python3.6/dist-packages/tensorflow/python/ops/init_ops.py:1251: calling VarianceScaling.__init__ (from tensorflow.python.ops.init_ops) with dtype is deprecated and will be removed in a future version.\n",
            "Instructions for updating:\n",
            "Call initializer instance with the dtype argument instead of passing it to the constructor\n",
            "W0706 20:07:08.760762 139738585687936 deprecation.py:323] From /usr/local/lib/python3.6/dist-packages/tensorflow/python/ops/nn_impl.py:180: add_dispatch_support.<locals>.wrapper (from tensorflow.python.ops.array_ops) is deprecated and will be removed in a future version.\n",
            "Instructions for updating:\n",
            "Use tf.where in 2.0, which has the same broadcast rule as np.where\n"
          ],
          "name": "stderr"
        },
        {
          "output_type": "stream",
          "text": [
            "Model: \"sequential\"\n",
            "_________________________________________________________________\n",
            "Layer (type)                 Output Shape              Param #   \n",
            "=================================================================\n",
            "embedding (Embedding)        (None, 16, 100)           13853400  \n",
            "_________________________________________________________________\n",
            "dropout (Dropout)            (None, 16, 100)           0         \n",
            "_________________________________________________________________\n",
            "conv1d (Conv1D)              (None, 12, 64)            32064     \n",
            "_________________________________________________________________\n",
            "max_pooling1d (MaxPooling1D) (None, 3, 64)             0         \n",
            "_________________________________________________________________\n",
            "lstm (LSTM)                  (None, 64)                33024     \n",
            "_________________________________________________________________\n",
            "dense (Dense)                (None, 1)                 65        \n",
            "=================================================================\n",
            "Total params: 13,918,553\n",
            "Trainable params: 65,153\n",
            "Non-trainable params: 13,853,400\n",
            "_________________________________________________________________\n",
            "Train on 144000 samples, validate on 16000 samples\n",
            "Epoch 1/50\n",
            "144000/144000 - 41s - loss: 0.5669 - acc: 0.7003 - val_loss: 0.5109 - val_acc: 0.7440\n",
            "Epoch 2/50\n",
            "144000/144000 - 39s - loss: 0.5276 - acc: 0.7318 - val_loss: 0.4997 - val_acc: 0.7526\n",
            "Epoch 3/50\n",
            "144000/144000 - 39s - loss: 0.5110 - acc: 0.7435 - val_loss: 0.4890 - val_acc: 0.7612\n",
            "Epoch 4/50\n",
            "144000/144000 - 38s - loss: 0.5003 - acc: 0.7502 - val_loss: 0.5044 - val_acc: 0.7512\n",
            "Epoch 5/50\n",
            "144000/144000 - 39s - loss: 0.4902 - acc: 0.7586 - val_loss: 0.4894 - val_acc: 0.7587\n",
            "Epoch 6/50\n",
            "144000/144000 - 38s - loss: 0.4839 - acc: 0.7625 - val_loss: 0.4847 - val_acc: 0.7611\n",
            "Epoch 7/50\n",
            "144000/144000 - 38s - loss: 0.4779 - acc: 0.7668 - val_loss: 0.4853 - val_acc: 0.7633\n",
            "Epoch 8/50\n",
            "144000/144000 - 38s - loss: 0.4729 - acc: 0.7686 - val_loss: 0.4861 - val_acc: 0.7583\n",
            "Epoch 9/50\n",
            "144000/144000 - 39s - loss: 0.4694 - acc: 0.7721 - val_loss: 0.4914 - val_acc: 0.7601\n",
            "Epoch 10/50\n",
            "144000/144000 - 38s - loss: 0.4655 - acc: 0.7737 - val_loss: 0.4860 - val_acc: 0.7624\n",
            "Epoch 11/50\n",
            "144000/144000 - 38s - loss: 0.4617 - acc: 0.7759 - val_loss: 0.4905 - val_acc: 0.7603\n",
            "Epoch 12/50\n",
            "144000/144000 - 38s - loss: 0.4583 - acc: 0.7784 - val_loss: 0.4893 - val_acc: 0.7601\n",
            "Epoch 13/50\n",
            "144000/144000 - 38s - loss: 0.4569 - acc: 0.7804 - val_loss: 0.4905 - val_acc: 0.7636\n",
            "Epoch 14/50\n",
            "144000/144000 - 38s - loss: 0.4543 - acc: 0.7811 - val_loss: 0.4910 - val_acc: 0.7616\n",
            "Epoch 15/50\n",
            "144000/144000 - 38s - loss: 0.4516 - acc: 0.7827 - val_loss: 0.4890 - val_acc: 0.7614\n",
            "Epoch 16/50\n",
            "144000/144000 - 38s - loss: 0.4505 - acc: 0.7835 - val_loss: 0.4887 - val_acc: 0.7610\n",
            "Epoch 17/50\n",
            "144000/144000 - 38s - loss: 0.4483 - acc: 0.7839 - val_loss: 0.4891 - val_acc: 0.7609\n",
            "Epoch 18/50\n",
            "144000/144000 - 38s - loss: 0.4468 - acc: 0.7857 - val_loss: 0.4929 - val_acc: 0.7606\n",
            "Epoch 19/50\n",
            "144000/144000 - 38s - loss: 0.4446 - acc: 0.7864 - val_loss: 0.4969 - val_acc: 0.7562\n",
            "Epoch 20/50\n",
            "144000/144000 - 39s - loss: 0.4444 - acc: 0.7867 - val_loss: 0.4925 - val_acc: 0.7587\n",
            "Epoch 21/50\n",
            "144000/144000 - 39s - loss: 0.4420 - acc: 0.7881 - val_loss: 0.4977 - val_acc: 0.7583\n",
            "Epoch 22/50\n",
            "144000/144000 - 39s - loss: 0.4413 - acc: 0.7885 - val_loss: 0.4992 - val_acc: 0.7589\n",
            "Epoch 23/50\n",
            "144000/144000 - 39s - loss: 0.4408 - acc: 0.7886 - val_loss: 0.4968 - val_acc: 0.7556\n",
            "Epoch 24/50\n",
            "144000/144000 - 39s - loss: 0.4396 - acc: 0.7896 - val_loss: 0.4978 - val_acc: 0.7590\n",
            "Epoch 25/50\n",
            "144000/144000 - 39s - loss: 0.4392 - acc: 0.7896 - val_loss: 0.4970 - val_acc: 0.7578\n",
            "Epoch 26/50\n",
            "144000/144000 - 39s - loss: 0.4379 - acc: 0.7909 - val_loss: 0.5017 - val_acc: 0.7554\n",
            "Epoch 27/50\n",
            "144000/144000 - 38s - loss: 0.4368 - acc: 0.7910 - val_loss: 0.5038 - val_acc: 0.7554\n",
            "Epoch 28/50\n",
            "144000/144000 - 38s - loss: 0.4361 - acc: 0.7926 - val_loss: 0.5054 - val_acc: 0.7559\n",
            "Epoch 29/50\n",
            "144000/144000 - 38s - loss: 0.4364 - acc: 0.7915 - val_loss: 0.5037 - val_acc: 0.7544\n",
            "Epoch 30/50\n",
            "144000/144000 - 38s - loss: 0.4360 - acc: 0.7918 - val_loss: 0.5036 - val_acc: 0.7562\n",
            "Epoch 31/50\n",
            "144000/144000 - 38s - loss: 0.4341 - acc: 0.7927 - val_loss: 0.5012 - val_acc: 0.7591\n",
            "Epoch 32/50\n",
            "144000/144000 - 38s - loss: 0.4347 - acc: 0.7923 - val_loss: 0.5020 - val_acc: 0.7575\n",
            "Epoch 33/50\n",
            "144000/144000 - 39s - loss: 0.4328 - acc: 0.7942 - val_loss: 0.5045 - val_acc: 0.7538\n",
            "Epoch 34/50\n",
            "144000/144000 - 38s - loss: 0.4330 - acc: 0.7937 - val_loss: 0.5116 - val_acc: 0.7557\n",
            "Epoch 35/50\n",
            "144000/144000 - 38s - loss: 0.4328 - acc: 0.7935 - val_loss: 0.5039 - val_acc: 0.7568\n",
            "Epoch 36/50\n",
            "144000/144000 - 38s - loss: 0.4317 - acc: 0.7943 - val_loss: 0.5057 - val_acc: 0.7535\n",
            "Epoch 37/50\n",
            "144000/144000 - 38s - loss: 0.4319 - acc: 0.7944 - val_loss: 0.4999 - val_acc: 0.7584\n",
            "Epoch 38/50\n",
            "144000/144000 - 38s - loss: 0.4315 - acc: 0.7943 - val_loss: 0.5027 - val_acc: 0.7561\n",
            "Epoch 39/50\n",
            "144000/144000 - 38s - loss: 0.4300 - acc: 0.7953 - val_loss: 0.5098 - val_acc: 0.7501\n",
            "Epoch 40/50\n",
            "144000/144000 - 38s - loss: 0.4303 - acc: 0.7954 - val_loss: 0.5108 - val_acc: 0.7565\n",
            "Epoch 41/50\n",
            "144000/144000 - 38s - loss: 0.4304 - acc: 0.7963 - val_loss: 0.5092 - val_acc: 0.7533\n",
            "Epoch 42/50\n",
            "144000/144000 - 38s - loss: 0.4313 - acc: 0.7957 - val_loss: 0.5068 - val_acc: 0.7523\n",
            "Epoch 43/50\n",
            "144000/144000 - 38s - loss: 0.4302 - acc: 0.7948 - val_loss: 0.5040 - val_acc: 0.7571\n",
            "Epoch 44/50\n",
            "144000/144000 - 38s - loss: 0.4295 - acc: 0.7959 - val_loss: 0.5106 - val_acc: 0.7550\n",
            "Epoch 45/50\n",
            "144000/144000 - 38s - loss: 0.4288 - acc: 0.7965 - val_loss: 0.5061 - val_acc: 0.7544\n",
            "Epoch 46/50\n",
            "144000/144000 - 38s - loss: 0.4287 - acc: 0.7962 - val_loss: 0.5095 - val_acc: 0.7564\n",
            "Epoch 47/50\n",
            "144000/144000 - 38s - loss: 0.4305 - acc: 0.7951 - val_loss: 0.5046 - val_acc: 0.7551\n",
            "Epoch 48/50\n",
            "144000/144000 - 38s - loss: 0.4291 - acc: 0.7961 - val_loss: 0.5081 - val_acc: 0.7543\n",
            "Epoch 49/50\n",
            "144000/144000 - 37s - loss: 0.4287 - acc: 0.7962 - val_loss: 0.5113 - val_acc: 0.7544\n",
            "Epoch 50/50\n",
            "144000/144000 - 36s - loss: 0.4281 - acc: 0.7966 - val_loss: 0.5086 - val_acc: 0.7538\n",
            "Training Complete\n"
          ],
          "name": "stdout"
        }
      ]
    },
    {
      "cell_type": "code",
      "metadata": {
        "id": "v6gJB2UX4b0Y",
        "colab_type": "code",
        "colab": {
          "base_uri": "https://localhost:8080/",
          "height": 608
        },
        "outputId": "d686f8af-92c5-4421-dd08-71587264a790"
      },
      "source": [
        "import matplotlib.image  as mpimg\n",
        "import matplotlib.pyplot as plt\n",
        "\n",
        "#-----------------------------------------------------------\n",
        "# Retrieve a list of list results on training and test data\n",
        "# sets for each training epoch\n",
        "#-----------------------------------------------------------\n",
        "acc=history.history['acc']\n",
        "val_acc=history.history['val_acc']\n",
        "loss=history.history['loss']\n",
        "val_loss=history.history['val_loss']\n",
        "\n",
        "epochs=range(len(acc)) # Get number of epochs\n",
        "\n",
        "#------------------------------------------------\n",
        "# Plot training and validation accuracy per epoch\n",
        "#------------------------------------------------\n",
        "plt.plot(epochs, acc, 'r')\n",
        "plt.plot(epochs, val_acc, 'b')\n",
        "plt.title('Training and validation accuracy')\n",
        "plt.xlabel(\"Epochs\")\n",
        "plt.ylabel(\"Accuracy\")\n",
        "plt.legend([\"Accuracy\", \"Validation Accuracy\"])\n",
        "\n",
        "plt.figure()\n",
        "\n",
        "#------------------------------------------------\n",
        "# Plot training and validation loss per epoch\n",
        "#------------------------------------------------\n",
        "plt.plot(epochs, loss, 'r')\n",
        "plt.plot(epochs, val_loss, 'b')\n",
        "plt.title('Training and validation loss')\n",
        "plt.xlabel(\"Epochs\")\n",
        "plt.ylabel(\"Loss\")\n",
        "plt.legend([\"Loss\", \"Validation Loss\"])\n",
        "\n",
        "plt.figure()\n",
        "\n",
        "\n",
        "# Expected Output\n",
        "# A chart where the validation loss does not increase sharply!"
      ],
      "execution_count": 12,
      "outputs": [
        {
          "output_type": "execute_result",
          "data": {
            "text/plain": [
              "<Figure size 432x288 with 0 Axes>"
            ]
          },
          "metadata": {
            "tags": []
          },
          "execution_count": 12
        },
        {
          "output_type": "display_data",
          "data": {
            "image/png": "[encoded data removed]",
            "text/plain": [
              "<Figure size 432x288 with 1 Axes>"
            ]
          },
          "metadata": {
            "tags": []
          }
        },
        {
          "output_type": "display_data",
          "data": {
            "image/png": "[encoded data removed]",
            "text/plain": [
              "<Figure size 432x288 with 1 Axes>"
            ]
          },
          "metadata": {
            "tags": []
          }
        },
        {
          "output_type": "display_data",
          "data": {
            "text/plain": [
              "<Figure size 432x288 with 0 Axes>"
            ]
          },
          "metadata": {
            "tags": []
          }
        }
      ]
    }
  ]
}